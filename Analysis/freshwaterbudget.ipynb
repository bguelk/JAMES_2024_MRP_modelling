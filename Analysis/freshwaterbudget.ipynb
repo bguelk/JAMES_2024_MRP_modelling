{
 "cells": [
  {
   "cell_type": "code",
   "execution_count": 1,
   "metadata": {},
   "outputs": [],
   "source": [
    "# import necessary libraries for this calculation\n",
    "import numpy as np\n",
    "import matplotlib.pyplot as plt\n",
    "import xarray as xr\n",
    "import cmocean\n",
    "from pathlib import Path\n",
    "import scipy\n",
    "\n",
    "plt.rcParams['font.size']=14"
   ]
  },
  {
   "cell_type": "markdown",
   "metadata": {},
   "source": [
    "# Full simulations 2007-2017\n"
   ]
  },
  {
   "cell_type": "code",
   "execution_count": 2,
   "metadata": {},
   "outputs": [],
   "source": [
    "ds01=xr.open_mfdataset('./EXP_REF/fw_20*_EXP_REF.nc')\n",
    "ds03=xr.open_mfdataset('./EXP_mfc_ori/fw_20*_EXP_mfc_ori.nc')\n",
    "ds04=xr.open_mfdataset('./EXP_mfc_mod/fw_20*_EXP_mfc_mod.nc')\n",
    "\n",
    "time_array=np.array(ds01.t,dtype=np.datetime64)"
   ]
  },
  {
   "cell_type": "code",
   "execution_count": 3,
   "metadata": {},
   "outputs": [],
   "source": [
    "S0=35\n",
    "dt=86400\n"
   ]
  },
  {
   "cell_type": "code",
   "execution_count": 4,
   "metadata": {},
   "outputs": [],
   "source": [
    "# check if trend is found by lin reg\n",
    "res01= scipy.stats.linregress(np.arange(0,len(time_array)), ds01.Fc, alternative='two-sided')\n",
    "res03= scipy.stats.linregress(np.arange(0,len(time_array)), ds03.Fc, alternative='two-sided')\n",
    "res04= scipy.stats.linregress(np.arange(0,len(time_array)), ds04.Fc, alternative='two-sided')"
   ]
  },
  {
   "cell_type": "code",
   "execution_count": 5,
   "metadata": {},
   "outputs": [
    {
     "name": "stdout",
     "output_type": "stream",
     "text": [
      "1.1870146009709033 ± 0.06437420207650096 $10^{-3}$ Sv\n",
      "1.3668063053833739 ± 0.05839541318384913 $10^{-3}$ Sv\n",
      "1.1999292662638679 ± 0.059720092268748665 $10^{-3}$ Sv\n"
     ]
    }
   ],
   "source": [
    "print(res01.slope/(86400*(10**3)),'±',res01.stderr/(86400*(10**3)),'$10^{-3}$ Sv')\n",
    "print(res03.slope/(86400*(10**3)),'±',res03.stderr/(86400*(10**3)),'$10^{-3}$ Sv')\n",
    "print(res04.slope/(86400*(10**3)),'±',res04.stderr/(86400*(10**3)),'$10^{-3}$ Sv')"
   ]
  },
  {
   "cell_type": "markdown",
   "metadata": {},
   "source": [
    "# Freshwater sensitivity runs"
   ]
  },
  {
   "cell_type": "code",
   "execution_count": 6,
   "metadata": {},
   "outputs": [],
   "source": [
    "ds34=xr.open_mfdataset('./EXP_initial/fw_20*_EXP_initial.nc')\n",
    "ds36=xr.open_mfdataset('./EXP_tpre00_prsn00_2012/fw_201*_EXP_tpre00_prsn00_2012.nc')\n",
    "ds38=xr.open_mfdataset('./EXP_tpre01_prsn01_2012/fw_201*_EXP_tpre01_prsn01_2012.nc')\n",
    "ds39=xr.open_mfdataset('./EXP_tpre02_prsn02_2012/fw_201*_EXP_tpre02_prsn02_2012.nc')\n",
    "ds40=xr.open_mfdataset('./EXP_tpre03_prsn03_2012/fw_201*_EXP_tpre03_prsn03_2012.nc')\n",
    "ds43=xr.open_mfdataset('./EXP_tpre04_prsn04_2012/fw_201*_EXP_tpre04_prsn04_2012.nc')"
   ]
  },
  {
   "cell_type": "code",
   "execution_count": 7,
   "metadata": {},
   "outputs": [],
   "source": [
    "# linear regression of those runs\n",
    "res36= scipy.stats.linregress(np.arange(0,len(time_array)), xr.concat((ds34.Fc,ds36.Fc),dim='t'), alternative='two-sided')\n",
    "res38= scipy.stats.linregress(np.arange(0,len(time_array)), xr.concat((ds34.Fc,ds38.Fc),dim='t'), alternative='two-sided')\n",
    "res39= scipy.stats.linregress(np.arange(0,len(time_array)), xr.concat((ds34.Fc,ds39.Fc),dim='t'), alternative='two-sided')\n",
    "res40= scipy.stats.linregress(np.arange(0,len(time_array)), xr.concat((ds34.Fc,ds40.Fc),dim='t'), alternative='two-sided')\n",
    "res43= scipy.stats.linregress(np.arange(0,len(time_array)), xr.concat((ds34.Fc,ds43.Fc),dim='t'), alternative='two-sided')\n",
    "\n"
   ]
  },
  {
   "cell_type": "code",
   "execution_count": 8,
   "metadata": {},
   "outputs": [
    {
     "name": "stdout",
     "output_type": "stream",
     "text": [
      "REF:     1.19 ± 0.06 $10^{-3}$ Sv\n",
      "EDMF:    1.37 ± 0.06 $10^{-3}$ Sv\n",
      "EDMF epsilon: 1.2 ± 0.06 $10^{-3}$ Sv\n",
      "0% :     0.94 ± 0.06 $10^{-3}$ Sv\n",
      "10%:     0.9 ± 0.06 $10^{-3}$ Sv\n",
      "20%:     0.93 ± 0.06 $10^{-3}$ Sv\n",
      "30%:     0.88 ± 0.06 $10^{-3}$ Sv\n",
      "40%:     0.92 ± 0.06 $10^{-3}$ Sv\n"
     ]
    }
   ],
   "source": [
    "print('REF:    ',np.round(res01.slope/(86400*(10**3)),2),'±',np.round(res01.stderr/(86400*(10**3)),2),'$10^{-3}$ Sv')\n",
    "print('EDMF:   ',np.round(res03.slope/(86400*(10**3)),2),'±',np.round(res03.stderr/(86400*(10**3)),2),'$10^{-3}$ Sv')\n",
    "print('EDMF epsilon:',np.round(res04.slope/(86400*(10**3)),2),'±',np.round(res04.stderr/(86400*(10**3)),2),'$10^{-3}$ Sv')\n",
    "\n",
    "print('0% :    ', np.round(res36.slope/(86400*(10**3)),2),'±',np.round(res36.stderr/(86400*(10**3)),2),'$10^{-3}$ Sv')\n",
    "print('10%:    ', np.round(res38.slope/(86400*(10**3)),2),'±',np.round(res38.stderr/(86400*(10**3)),2),'$10^{-3}$ Sv')\n",
    "print('20%:    ', np.round(res39.slope/(86400*(10**3)),2),'±',np.round(res39.stderr/(86400*(10**3)),2),'$10^{-3}$ Sv')\n",
    "print('30%:    ', np.round(res40.slope/(86400*(10**3)),2),'±',np.round(res40.stderr/(86400*(10**3)),2),'$10^{-3}$ Sv')\n",
    "print('40%:    ', np.round(res43.slope/(86400*(10**3)),2),'±',np.round(res43.stderr/(86400*(10**3)),2),'$10^{-3}$ Sv')\n"
   ]
  }
 ],
 "metadata": {
  "kernelspec": {
   "display_name": "Python 3",
   "language": "python",
   "name": "python3"
  },
  "language_info": {
   "codemirror_mode": {
    "name": "ipython",
    "version": 3
   },
   "file_extension": ".py",
   "mimetype": "text/x-python",
   "name": "python",
   "nbconvert_exporter": "python",
   "pygments_lexer": "ipython3",
   "version": "3.8.5"
  }
 },
 "nbformat": 4,
 "nbformat_minor": 4
}
