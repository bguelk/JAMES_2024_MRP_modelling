{
 "cells": [
  {
   "cell_type": "code",
   "execution_count": 1,
   "metadata": {},
   "outputs": [],
   "source": [
    "import numpy as np\n",
    "import matplotlib.pyplot as plt\n",
    "import xarray as xr\n",
    "import cmocean.cm as cmo\n",
    "from scipy.interpolate import griddata\n",
    "from datetime import datetime, timedelta\n",
    "import gsw\n",
    "import datetime\n",
    "import cartopy.crs as ccrs\n",
    "from pathlib import Path\n",
    "import cmasher as cmr\n",
    "import matplotlib.colors as mcolors\n",
    "\n",
    "xr.set_options(keep_attrs=True)\n",
    "plt.rcParams['font.size']=14"
   ]
  },
  {
   "cell_type": "code",
   "execution_count": 3,
   "metadata": {},
   "outputs": [],
   "source": [
    "ds01=xr.open_mfdataset('EXP_REF_intel/iceadv_*b_EXP_REF_intel.nc',compat='override')\n",
    "ds03=xr.open_mfdataset('EXP_mfc_ori/iceadv_*b_EXP_mfc_ori.nc',compat='override')\n",
    "ds04=xr.open_mfdataset('EXP_mfc_mod/iceadv_*b_EXP_mfc_mod.nc',compat='override')\n",
    "\n"
   ]
  },
  {
   "cell_type": "code",
   "execution_count": 16,
   "metadata": {},
   "outputs": [],
   "source": [
    "d01_totaliceimp=(-1*ds01.iceadv_eb).sum(dim='t')+(-1*ds01.iceadv_nb).sum(dim='t')+ds01.iceadv_wb.sum(dim='t')\n",
    "d03_totaliceimp=(-1*ds03.iceadv_eb).sum(dim='t')+(-1*ds03.iceadv_nb).sum(dim='t')+ds03.iceadv_wb.sum(dim='t')\n",
    "d04_totaliceimp=(-1*ds04.iceadv_eb).sum(dim='t')+(-1*ds04.iceadv_nb).sum(dim='t')+ds04.iceadv_wb.sum(dim='t')"
   ]
  },
  {
   "cell_type": "code",
   "execution_count": 21,
   "metadata": {},
   "outputs": [
    {
     "data": {
      "text/plain": [
       "array(1.00306074e+12)"
      ]
     },
     "execution_count": 21,
     "metadata": {},
     "output_type": "execute_result"
    }
   ],
   "source": [
    "# Estimate the area of the domain\n",
    "bat=xr.open_dataset('../MAUD_RISE_config/maud_v4/m12_mask/1_domain_cfg_50levels_new.nc')\n",
    "area=(bat.e1t*bat.e2t).where(bat.top_level==1).isel(x=slice(4,291),y=slice(0,266)).sum(dim={'x','y'}) #m2\n",
    "area.values"
   ]
  },
  {
   "cell_type": "code",
   "execution_count": 22,
   "metadata": {},
   "outputs": [],
   "source": [
    "rho_ice=916 #kg/m3\n",
    "dt=86400 #s\n",
    "DSi=30 # g/kg difference of salinity between ocean and ice\n",
    "h_mld= 50 # m assumed MLD\n",
    "rho_w= 1026 # kg/m3 density of water"
   ]
  },
  {
   "cell_type": "code",
   "execution_count": 25,
   "metadata": {},
   "outputs": [
    {
     "data": {
      "text/plain": [
       "array(0.99310454)"
      ]
     },
     "execution_count": 25,
     "metadata": {},
     "output_type": "execute_result"
    }
   ],
   "source": [
    "# volume of ice imported into the domain\n",
    "V_ice=(d01_totaliceimp)*dt\n",
    "#V_ice=(d01_totaliceimp)*dt\n",
    "#mass of ice\n",
    "m_ice=V_ice*rho_ice\n",
    "# compute the salintiy difference\n",
    "DS=DSi*m_ice/(area*h_mld*rho_w)\n",
    "DS.values"
   ]
  },
  {
   "cell_type": "code",
   "execution_count": 26,
   "metadata": {},
   "outputs": [
    {
     "data": {
      "text/plain": [
       "array(2.58129652)"
      ]
     },
     "execution_count": 26,
     "metadata": {},
     "output_type": "execute_result"
    }
   ],
   "source": [
    "# volume of ice imported into the domain\n",
    "V_ice=(d03_totaliceimp)*dt\n",
    "#V_ice=(d01_totaliceimp)*dt\n",
    "#mass of ice\n",
    "m_ice=V_ice*rho_ice\n",
    "# compute the salintiy difference\n",
    "DS=DSi*m_ice/(area*h_mld*rho_w)\n",
    "DS.values"
   ]
  },
  {
   "cell_type": "code",
   "execution_count": 27,
   "metadata": {},
   "outputs": [
    {
     "data": {
      "text/plain": [
       "array(2.16036035)"
      ]
     },
     "execution_count": 27,
     "metadata": {},
     "output_type": "execute_result"
    }
   ],
   "source": [
    "# volume of ice imported into the domain\n",
    "V_ice=(d04_totaliceimp)*dt\n",
    "#V_ice=(d01_totaliceimp)*dt\n",
    "#mass of ice\n",
    "m_ice=V_ice*rho_ice\n",
    "# compute the salintiy difference\n",
    "DS=DSi*m_ice/(area*h_mld*rho_w)\n",
    "DS.values"
   ]
  },
  {
   "cell_type": "code",
   "execution_count": null,
   "metadata": {},
   "outputs": [],
   "source": []
  }
 ],
 "metadata": {
  "kernelspec": {
   "display_name": "Python 3",
   "language": "python",
   "name": "python3"
  },
  "language_info": {
   "codemirror_mode": {
    "name": "ipython",
    "version": 3
   },
   "file_extension": ".py",
   "mimetype": "text/x-python",
   "name": "python",
   "nbconvert_exporter": "python",
   "pygments_lexer": "ipython3",
   "version": "3.8.5"
  }
 },
 "nbformat": 4,
 "nbformat_minor": 4
}
